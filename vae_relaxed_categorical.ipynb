{
 "cells": [
  {
   "cell_type": "markdown",
   "metadata": {
    "colab_type": "text",
    "id": "YvryyD5UiqVT"
   },
   "source": [
    "# Categorical VAE with ST Gumbel-Softmax\n",
    "\n",
    "**Partial implementation of the paper [Categorical Reparameterization with Gumbel-Softmax](https://arxiv.org/abs/1611.01144) following the implementation from https://github.com/ericjang/gumbel-softmax but reorganized and translated to pure TF 2.2.**\n"
   ]
  },
  {
   "cell_type": "markdown",
   "metadata": {
    "colab_type": "text",
    "id": "5PUK6xQMiqVi"
   },
   "source": [
    "## Imports and Helper Functions"
   ]
  },
  {
   "cell_type": "code",
   "execution_count": 1,
   "metadata": {
    "colab": {},
    "colab_type": "code",
    "id": "Cf1nacIdiqVo"
   },
   "outputs": [],
   "source": [
    "import copy\n",
    "\n",
    "import numpy as np\n",
    "import tensorflow as tf\n",
    "import tensorflow_probability as tfp\n",
    "from tensorflow_probability import distributions as tfpd"
   ]
  },
  {
   "cell_type": "code",
   "execution_count": 2,
   "metadata": {
    "colab": {
     "base_uri": "https://localhost:8080/",
     "height": 35
    },
    "colab_type": "code",
    "id": "0w2iD0BMiqV3",
    "outputId": "a04ed99f-73b6-4646-f83b-44d86cc30ff2"
   },
   "outputs": [
    {
     "data": {
      "text/plain": [
       "('2.2.0', '0.9.0')"
      ]
     },
     "execution_count": 2,
     "metadata": {},
     "output_type": "execute_result"
    }
   ],
   "source": [
    "tf.__version__, tfp.__version__"
   ]
  },
  {
   "cell_type": "markdown",
   "metadata": {},
   "source": [
    "## Configuration"
   ]
  },
  {
   "cell_type": "code",
   "execution_count": 3,
   "metadata": {
    "colab": {},
    "colab_type": "code",
    "id": "7sFBoX7-iqW1"
   },
   "outputs": [],
   "source": [
    "BATCH_SIZE=256\n",
    "NUM_ITERS=50000\n",
    "tau0=1.0 # initial temperature\n",
    "np_temp=tau0\n",
    "np_lr=0.001\n",
    "ANNEAL_RATE=0.00003\n",
    "MIN_TEMP=0.5"
   ]
  },
  {
   "cell_type": "markdown",
   "metadata": {
    "colab_type": "text",
    "id": "K18in8SZiqWQ"
   },
   "source": [
    "## Gumbel softmax"
   ]
  },
  {
   "cell_type": "markdown",
   "metadata": {},
   "source": [
    "Relaxed categorical distribution was recently added to TFP but before that sampling from it was relatively easy to achieve with the code presented below."
   ]
  },
  {
   "cell_type": "markdown",
   "metadata": {},
   "source": [
    "Through the notebook, *x* denotes observed data and *y* stands for latent samples."
   ]
  },
  {
   "cell_type": "code",
   "execution_count": 4,
   "metadata": {
    "colab": {},
    "colab_type": "code",
    "id": "G5HV9VIGiqWT"
   },
   "outputs": [],
   "source": [
    "@tf.function        \n",
    "def sample_gumbel(shape, eps=1e-20): \n",
    "  \"\"\"Sample from Gumbel(0, 1)\"\"\"\n",
    "  U = tf.random.uniform(shape,minval=0,maxval=1)\n",
    "  return -tf.math.log(-tf.math.log(U + eps) + eps)\n",
    "\n",
    "\n",
    "@tf.function   \n",
    "def gumbel_softmax_sample(logits, temperature): \n",
    "  \"\"\" Draw a sample from the Gumbel-Softmax distribution\"\"\"\n",
    "  y = logits + sample_gumbel(tf.shape(logits))\n",
    "  return tf.nn.softmax( y / temperature)\n",
    "\n",
    "\n",
    "@tf.function       \n",
    "def straight_through_sample(y, hard):\n",
    "  \"\"\"\n",
    "  Args:\n",
    "    y: [..., n_class] one-hot sample from the Gumbel-Softmax distribution. \n",
    "    hard: if True, take argmax, but differentiate w.r.t. soft sample y\n",
    "  Returns:\n",
    "    If hard=True, then the returned sample y will be one-hot, otherwise it will\n",
    "    be a probabilitiy distribution that sums to 1 across classes\n",
    "  \"\"\"\n",
    "  if hard:\n",
    "    K = y.shape[-1]\n",
    "    y_hard = tf.cast(tf.one_hot(tf.argmax(y,-1), K), y.dtype)\n",
    "    y = tf.stop_gradient(y_hard - y) + y  \n",
    "  return y"
   ]
  },
  {
   "cell_type": "markdown",
   "metadata": {
    "colab_type": "text",
    "id": "zXgNCssWiqWd"
   },
   "source": [
    "## Model specification"
   ]
  },
  {
   "cell_type": "markdown",
   "metadata": {},
   "source": [
    "There are two parameters configuring how the forward pass is performed:\n",
    " 1. use_tfp_distributions - switches between using TFP RelaxedOneHotCategorical and the code above\n",
    " 2. hard - turns on passing samples through straight-through (ST) estimator that converts them into 'true' one-hot encoded vectors"
   ]
  },
  {
   "cell_type": "code",
   "execution_count": 5,
   "metadata": {
    "colab": {},
    "colab_type": "code",
    "id": "U8bqeCYViqWg"
   },
   "outputs": [],
   "source": [
    "class CategoricalVAE(tf.Module):\n",
    "\n",
    "    def __init__(self, N=10, K=2, hard=False, use_tfp_distributions=True, name=None):\n",
    "        \"\"\"\n",
    "        \n",
    "            Args:\n",
    "                N: number of variables\n",
    "                K: number of categories for each variable\n",
    "                hard: set hard=True for ST Gumbel-Softmax \n",
    "                use_tfp_distributions: set True to represent q_y with RelaxedOneHotCategorical object \n",
    "                                        otherwise \n",
    "        \"\"\"\n",
    "        super(CategoricalVAE, self).__init__(name=name)\n",
    "\n",
    "        self.N = N # number of categorical distributions\n",
    "        self.K = K # number of classes\n",
    "        self.hard = hard # set hard=True for ST Gumbel-Softmax \n",
    "        # represent q_y with RelaxedOneHotCategorical object\n",
    "        self.use_tfp_distributions = use_tfp_distributions \n",
    "\n",
    "        self.calc_logits_y = tf.keras.Sequential([ # encoder\n",
    "                tf.keras.layers.Flatten(name=\"encoder0\"),\n",
    "                tf.keras.layers.Dense(512, activation=\"relu\", \n",
    "                    input_shape=(None, 784), name=\"encoder1\"),\n",
    "                tf.keras.layers.Dense(256, activation=\"relu\", name=\"encoder2\"),\n",
    "                tf.keras.layers.Dense(K*N, activation=None, name=\"encoder3\"),\n",
    "                tf.keras.layers.Reshape( [N,K] , name=\"encoder4\")\n",
    "                ], name=\"encoder\")\n",
    "\n",
    "        self.calc_logits_x = tf.keras.Sequential([ # decoder\n",
    "                tf.keras.layers.Flatten(name=\"decoder0\"),\n",
    "                tf.keras.layers.Dense(256, activation=\"relu\", name=\"decoder1\"),\n",
    "                tf.keras.layers.Dense(512, activation=\"relu\", name=\"decoder2\"),\n",
    "                tf.keras.layers.Dense(784, activation=None, name=\"decoder3\"),\n",
    "                ], name=\"decoder\") \n",
    "            \n",
    "    def __call__(self, x, temperature=5.0):\n",
    "        tau = tf.constant(temperature, name=\"temperature\", dtype=tf.float32)                        \n",
    "        \n",
    "        # variational posterior q(y|x), i.e. the encoder \n",
    "        # unnormalized logits for N separate K-categorical distributions \n",
    "        # (shape=(batch_size,N,K))\n",
    "        logits_y = self.calc_logits_y(x)\n",
    "        if self.use_tfp_distributions:\n",
    "            q_y = tfpd.RelaxedOneHotCategorical(tau, logits=logits_y)\n",
    "            y = q_y.sample()\n",
    "        else:\n",
    "            q_y = tf.nn.softmax(logits_y)                        \n",
    "            y = gumbel_softmax_sample(logits_y, tau)  \n",
    "        y = straight_through_sample(y, self.hard) # set hard=True for ST Gumbel-Softmax\n",
    "\n",
    "        # generative model p(x|y)\n",
    "        logits_x = self.calc_logits_x(y)    \n",
    "        p_x = tfpd.Bernoulli(logits=logits_x)\n",
    "        \n",
    "        return p_x, q_y, y"
   ]
  },
  {
   "cell_type": "markdown",
   "metadata": {
    "colab_type": "text",
    "id": "S9RoEpEYn5SR"
   },
   "source": [
    "## ELBOs with KL approximated in different ways"
   ]
  },
  {
   "cell_type": "markdown",
   "metadata": {},
   "source": [
    "There are several issues that need to be considered when calculating KL term in ELBO for relaxed categorical distributions. This is because:\n",
    " 1. Samples from the distribution (unless passed through ST) are not valid one-hot encoded vectors\n",
    " 2. We cannot evaluate probability mass for categorical distribution - we get only probability density of its relaxed version\n",
    " \n",
    "In consequence, certain decisions need to be made:\n",
    " 1. How the priors should look like so they would make sense with relaxed latent samples *y*\n",
    " 2. Do we try to estimate q(y) or do we approximate KL with MC as KL = y * (log q(y)-log p(y))\n",
    "\n",
    "Finally, implementations differ between using TFP Relaxed Categorical distribution or the above code.\n",
    "\n",
    "Below, we present three versions of the loss (-ELBO) with different choices regarding the issues.\n"
   ]
  },
  {
   "cell_type": "code",
   "execution_count": 6,
   "metadata": {
    "colab": {},
    "colab_type": "code",
    "id": "lxnu7XXdiqWp"
   },
   "outputs": [],
   "source": [
    "def loss_analytical_relaxed_vs_categorical_notfp(x, p_x, q_y, *args, **kwargs):\n",
    "    \"\"\" For KL uses densities q_y coming from concrete distribution. \n",
    "        that compares to categorical prior. \n",
    "        \n",
    "        Based on\n",
    "        https://github.com/ericjang/gumbel-softmax/blob/master/Categorical%20VAE.ipynb\n",
    "    \"\"\"\n",
    "    batch_size, K = p_x.logits.shape[0], q_y.shape[-1]\n",
    "    N = int(tf.reduce_prod(q_y.shape)//K//batch_size)\n",
    "\n",
    "    log_p_y = tf.math.log(1.0/K) * tf.ones_like(q_y) # compare to categorical\n",
    "    log_q_y = tf.math.log(q_y+1e-20)        \n",
    "    kl_tmp = q_y*(log_q_y-log_p_y)\n",
    "    KL = tf.reduce_sum(kl_tmp, [1, 2])\n",
    "\n",
    "    elbo = tf.reduce_sum(p_x.log_prob(x), 1) - KL        \n",
    "    return tf.reduce_mean(-elbo) "
   ]
  },
  {
   "cell_type": "code",
   "execution_count": 7,
   "metadata": {
    "colab": {},
    "colab_type": "code",
    "id": "4pMxT6Q82gag"
   },
   "outputs": [],
   "source": [
    "def loss_MC_relaxed_vs_relaxed(x, p_x, q_y, y): \n",
    "    \"\"\" For KL uses Monte Carlo KL with Relaxed (concrete) prior. \n",
    "    \n",
    "        Based on\n",
    "        https://github.com/ericjang/gumbel-softmax/blob/master/gumbel_softmax_vae_v2.ipynb\n",
    "    \"\"\"\n",
    "    (batch_size, N), K = q_y.batch_shape, q_y.event_shape[0]\n",
    "    \n",
    "    tau = q_y.temperature # use the same temperature for prior as for posterior # TODO\n",
    "    probs_py = tf.ones_like(q_y.logits) * 1./K  \n",
    "    p_y = tfpd.RelaxedOneHotCategorical(tau, probs=probs_py) # compare to Relaxed (concrete)\n",
    "\n",
    "    KL_qp = q_y.log_prob(y) - p_y.log_prob(y) #MC estimate\n",
    "    KL = tf.reduce_sum(KL_qp, 1)\n",
    "\n",
    "    elbo = tf.reduce_sum(p_x.log_prob(x), 1) - KL        \n",
    "    return tf.reduce_mean(-elbo) "
   ]
  },
  {
   "cell_type": "code",
   "execution_count": 8,
   "metadata": {
    "colab": {},
    "colab_type": "code",
    "id": "bx8LL9omii-T"
   },
   "outputs": [],
   "source": [
    "def loss_analytical_relaxed_vs_categorical(x, p_x, q_y, *args, **kwargs):\n",
    "    \"\"\" For KL uses Relaxed (concrete) distribution q_y \n",
    "        that compares to categorical prior. \"\"\"\n",
    "    (batch_size, N), K = q_y.batch_shape, q_y.event_shape[0]\n",
    "\n",
    "    probs_py = tf.ones_like(q_y.logits) * 1./K  \n",
    "    p_cat_y = tfpd.OneHotCategorical(probs=probs_py) # compare to categorical\n",
    "\n",
    "    #KL_qp = tfpd.kl_divergence(q_y, p_cat_y) #not defined between Relaxed and OneHotCategorical\n",
    "    #KL = tf.reduce_sum(KL_qp, 1)\n",
    "    KL = tf.reduce_sum(q_y.probs_parameter() * (tf.math.log(q_y.probs_parameter()) - tf.math.log(p_cat_y.probs)), [2,1])\n",
    "\n",
    "    elbo = tf.reduce_sum(p_x.log_prob(x), 1) - KL        \n",
    "    return tf.reduce_mean(-elbo) "
   ]
  },
  {
   "cell_type": "markdown",
   "metadata": {
    "colab_type": "text",
    "collapsed": true,
    "id": "2AC1b8njiqWy"
   },
   "source": [
    "## Training"
   ]
  },
  {
   "cell_type": "markdown",
   "metadata": {},
   "source": [
    "We use MNIST data from Keras."
   ]
  },
  {
   "cell_type": "code",
   "execution_count": 9,
   "metadata": {
    "colab": {},
    "colab_type": "code",
    "id": "S0K0W_U7iqW9"
   },
   "outputs": [],
   "source": [
    "# get data\n",
    "(x_train, y_train), (x_test, y_test) = tf.keras.datasets.mnist.load_data(path='mnist.npz')\n",
    "frmt = lambda images: tf.cast(tf.reshape(images,(-1, 784)), tf.float32)/255.0\n",
    "x_train, x_test = frmt(x_train), frmt(x_test)\n",
    "\n",
    "train_ds = tf.data.Dataset.from_tensor_slices((x_train, y_train)).batch(BATCH_SIZE)\n",
    "test_ds = tf.data.Dataset.from_tensor_slices((x_test, y_test)).batch(BATCH_SIZE)"
   ]
  },
  {
   "cell_type": "markdown",
   "metadata": {},
   "source": [
    "Create VAE and choose appropriate loss:"
   ]
  },
  {
   "cell_type": "code",
   "execution_count": 10,
   "metadata": {
    "colab": {},
    "colab_type": "code",
    "id": "tloGJnJpf6aa"
   },
   "outputs": [],
   "source": [
    "#loss = loss_MC_relaxed_vs_relaxed\n",
    "#loss = loss_analytical_relaxed_vs_categorical\n",
    "loss = loss_analytical_relaxed_vs_categorical_notfp\n",
    "\n",
    "vae = CategoricalVAE(hard=True, use_tfp_distributions=False)"
   ]
  },
  {
   "cell_type": "code",
   "execution_count": 11,
   "metadata": {
    "colab": {},
    "colab_type": "code",
    "id": "l8qA4dnZiqXP"
   },
   "outputs": [],
   "source": [
    "optimizer = tf.optimizers.Adam(learning_rate=0.001)\n",
    "dat=[]\n",
    "losses = []\n",
    "best_loss, best_vae = float(\"inf\"), None\n",
    "i = 0"
   ]
  },
  {
   "cell_type": "markdown",
   "metadata": {},
   "source": [
    "Training loop:"
   ]
  },
  {
   "cell_type": "code",
   "execution_count": 12,
   "metadata": {
    "colab": {
     "base_uri": "https://localhost:8080/",
     "height": 1000
    },
    "colab_type": "code",
    "id": "-bi8Uc8iiqXV",
    "outputId": "29b7c1df-8a26-45e7-fe1b-8d89084c54dc"
   },
   "outputs": [
    {
     "name": "stdout",
     "output_type": "stream",
     "text": [
      "0. loss=545.85 temp=1.00\n",
      "100. loss=238.24 temp=1.00\n",
      "200. loss=218.05 temp=1.00\n",
      "300. loss=208.51 temp=1.00\n",
      "400. loss=202.13 temp=1.00\n",
      "500. loss=196.32 temp=1.00\n",
      "600. loss=190.99 temp=1.00\n",
      "700. loss=186.03 temp=1.00\n",
      "800. loss=181.93 temp=1.00\n",
      "900. loss=178.51 temp=1.00\n",
      "1000. loss=175.52 temp=1.00\n",
      "1100. loss=173.05 temp=0.97\n",
      "1200. loss=170.86 temp=0.97\n",
      "1300. loss=169.00 temp=0.97\n",
      "1400. loss=167.34 temp=0.97\n",
      "1500. loss=165.89 temp=0.97\n",
      "1600. loss=164.58 temp=0.97\n",
      "1700. loss=163.35 temp=0.97\n",
      "1800. loss=162.28 temp=0.97\n",
      "1900. loss=161.28 temp=0.97\n",
      "2000. loss=160.39 temp=0.97\n",
      "2100. loss=159.57 temp=0.94\n",
      "2200. loss=158.78 temp=0.94\n",
      "2300. loss=158.09 temp=0.94\n",
      "2400. loss=157.40 temp=0.94\n",
      "2500. loss=156.80 temp=0.94\n",
      "2600. loss=156.21 temp=0.94\n",
      "2700. loss=155.68 temp=0.94\n",
      "2800. loss=155.17 temp=0.94\n",
      "2900. loss=154.68 temp=0.94\n",
      "3000. loss=154.23 temp=0.94\n",
      "3100. loss=153.78 temp=0.91\n",
      "3200. loss=153.39 temp=0.91\n",
      "3300. loss=153.00 temp=0.91\n",
      "3400. loss=152.63 temp=0.91\n",
      "3500. loss=152.30 temp=0.91\n",
      "3600. loss=151.95 temp=0.91\n",
      "3700. loss=151.63 temp=0.91\n",
      "3800. loss=151.32 temp=0.91\n",
      "3900. loss=151.04 temp=0.91\n",
      "4000. loss=150.76 temp=0.91\n",
      "4100. loss=150.49 temp=0.89\n",
      "4200. loss=150.24 temp=0.89\n",
      "4300. loss=149.98 temp=0.89\n",
      "4400. loss=149.74 temp=0.89\n",
      "4500. loss=149.50 temp=0.89\n",
      "4600. loss=149.28 temp=0.89\n",
      "4700. loss=149.07 temp=0.89\n",
      "4800. loss=148.86 temp=0.89\n",
      "4900. loss=148.67 temp=0.89\n",
      "5000. loss=148.46 temp=0.89\n",
      "5100. loss=148.27 temp=0.86\n",
      "5200. loss=148.07 temp=0.86\n",
      "5300. loss=147.90 temp=0.86\n",
      "5400. loss=147.73 temp=0.86\n",
      "5500. loss=147.56 temp=0.86\n",
      "5600. loss=147.41 temp=0.86\n",
      "5700. loss=147.24 temp=0.86\n",
      "5800. loss=147.08 temp=0.86\n",
      "5900. loss=146.92 temp=0.86\n",
      "6000. loss=146.78 temp=0.86\n",
      "6100. loss=146.64 temp=0.84\n",
      "6200. loss=146.50 temp=0.84\n",
      "6300. loss=146.37 temp=0.84\n",
      "6400. loss=146.23 temp=0.84\n",
      "6500. loss=146.10 temp=0.84\n",
      "6600. loss=145.97 temp=0.84\n",
      "6700. loss=145.85 temp=0.84\n",
      "6800. loss=145.73 temp=0.84\n",
      "6900. loss=145.60 temp=0.84\n",
      "7000. loss=145.49 temp=0.84\n",
      "7100. loss=145.36 temp=0.81\n",
      "7200. loss=145.26 temp=0.81\n",
      "7300. loss=145.15 temp=0.81\n",
      "7400. loss=145.05 temp=0.81\n",
      "7500. loss=144.95 temp=0.81\n",
      "7600. loss=144.84 temp=0.81\n",
      "7700. loss=144.75 temp=0.81\n",
      "7800. loss=144.64 temp=0.81\n",
      "7900. loss=144.55 temp=0.81\n",
      "8000. loss=144.46 temp=0.81\n",
      "8100. loss=144.37 temp=0.79\n",
      "8200. loss=144.28 temp=0.79\n",
      "8300. loss=144.19 temp=0.79\n",
      "8400. loss=144.10 temp=0.79\n",
      "8500. loss=144.01 temp=0.79\n",
      "8600. loss=143.93 temp=0.79\n",
      "8700. loss=143.85 temp=0.79\n",
      "8800. loss=143.77 temp=0.79\n",
      "8900. loss=143.70 temp=0.79\n",
      "9000. loss=143.62 temp=0.79\n",
      "9100. loss=143.54 temp=0.76\n",
      "9200. loss=143.46 temp=0.76\n",
      "9300. loss=143.39 temp=0.76\n",
      "9400. loss=143.32 temp=0.76\n",
      "9500. loss=143.25 temp=0.76\n",
      "9600. loss=143.18 temp=0.76\n",
      "9700. loss=143.11 temp=0.76\n",
      "9800. loss=143.04 temp=0.76\n",
      "9900. loss=142.97 temp=0.76\n",
      "10000. loss=142.91 temp=0.76\n",
      "10100. loss=142.84 temp=0.74\n",
      "10200. loss=142.78 temp=0.74\n",
      "10300. loss=142.72 temp=0.74\n",
      "10400. loss=142.65 temp=0.74\n",
      "10500. loss=142.59 temp=0.74\n",
      "10600. loss=142.52 temp=0.74\n",
      "10700. loss=142.47 temp=0.74\n",
      "10800. loss=142.41 temp=0.74\n",
      "10900. loss=142.36 temp=0.74\n",
      "11000. loss=142.30 temp=0.74\n",
      "11100. loss=142.24 temp=0.72\n",
      "11200. loss=142.19 temp=0.72\n",
      "11300. loss=142.13 temp=0.72\n",
      "11400. loss=142.08 temp=0.72\n",
      "11500. loss=142.03 temp=0.72\n",
      "11600. loss=141.97 temp=0.72\n",
      "11700. loss=141.92 temp=0.72\n",
      "11800. loss=141.87 temp=0.72\n",
      "11900. loss=141.82 temp=0.72\n",
      "12000. loss=141.77 temp=0.72\n",
      "12100. loss=141.72 temp=0.70\n",
      "12200. loss=141.67 temp=0.70\n",
      "12300. loss=141.62 temp=0.70\n",
      "12400. loss=141.58 temp=0.70\n",
      "12500. loss=141.53 temp=0.70\n",
      "12600. loss=141.48 temp=0.70\n",
      "12700. loss=141.44 temp=0.70\n",
      "12800. loss=141.40 temp=0.70\n",
      "12900. loss=141.35 temp=0.70\n",
      "13000. loss=141.31 temp=0.70\n",
      "13100. loss=141.27 temp=0.68\n",
      "13200. loss=141.22 temp=0.68\n",
      "13300. loss=141.18 temp=0.68\n",
      "13400. loss=141.14 temp=0.68\n",
      "13500. loss=141.10 temp=0.68\n",
      "13600. loss=141.06 temp=0.68\n",
      "13700. loss=141.02 temp=0.68\n",
      "13800. loss=140.98 temp=0.68\n",
      "13900. loss=140.94 temp=0.68\n",
      "14000. loss=140.91 temp=0.68\n",
      "14100. loss=140.87 temp=0.66\n",
      "14200. loss=140.83 temp=0.66\n",
      "14300. loss=140.80 temp=0.66\n",
      "14400. loss=140.76 temp=0.66\n",
      "14500. loss=140.72 temp=0.66\n",
      "14600. loss=140.68 temp=0.66\n",
      "14700. loss=140.65 temp=0.66\n",
      "14800. loss=140.61 temp=0.66\n",
      "14900. loss=140.58 temp=0.66\n",
      "15000. loss=140.55 temp=0.66\n",
      "15100. loss=140.51 temp=0.64\n",
      "15200. loss=140.48 temp=0.64\n",
      "15300. loss=140.44 temp=0.64\n",
      "15400. loss=140.41 temp=0.64\n",
      "15500. loss=140.38 temp=0.64\n",
      "15600. loss=140.35 temp=0.64\n",
      "15700. loss=140.32 temp=0.64\n",
      "15800. loss=140.29 temp=0.64\n",
      "15900. loss=140.26 temp=0.64\n",
      "16000. loss=140.22 temp=0.64\n",
      "16100. loss=140.19 temp=0.62\n",
      "16200. loss=140.16 temp=0.62\n",
      "16300. loss=140.13 temp=0.62\n",
      "16400. loss=140.10 temp=0.62\n",
      "16500. loss=140.07 temp=0.62\n",
      "16600. loss=140.04 temp=0.62\n",
      "16700. loss=140.01 temp=0.62\n",
      "16800. loss=139.98 temp=0.62\n",
      "16900. loss=139.96 temp=0.62\n",
      "17000. loss=139.93 temp=0.62\n",
      "17100. loss=139.90 temp=0.60\n",
      "17200. loss=139.87 temp=0.60\n",
      "17300. loss=139.85 temp=0.60\n",
      "17400. loss=139.82 temp=0.60\n",
      "17500. loss=139.79 temp=0.60\n",
      "17600. loss=139.77 temp=0.60\n",
      "17700. loss=139.74 temp=0.60\n",
      "17800. loss=139.71 temp=0.60\n",
      "17900. loss=139.69 temp=0.60\n",
      "18000. loss=139.66 temp=0.60\n",
      "18100. loss=139.64 temp=0.58\n",
      "18200. loss=139.61 temp=0.58\n",
      "18300. loss=139.59 temp=0.58\n",
      "18400. loss=139.56 temp=0.58\n",
      "18500. loss=139.54 temp=0.58\n",
      "18600. loss=139.51 temp=0.58\n",
      "18700. loss=139.49 temp=0.58\n",
      "18800. loss=139.46 temp=0.58\n",
      "18900. loss=139.44 temp=0.58\n",
      "19000. loss=139.42 temp=0.58\n",
      "19100. loss=139.39 temp=0.57\n",
      "19200. loss=139.37 temp=0.57\n",
      "19300. loss=139.34 temp=0.57\n",
      "19400. loss=139.32 temp=0.57\n",
      "19500. loss=139.30 temp=0.57\n",
      "19600. loss=139.27 temp=0.57\n",
      "19700. loss=139.25 temp=0.57\n",
      "19800. loss=139.23 temp=0.57\n",
      "19900. loss=139.21 temp=0.57\n",
      "20000. loss=139.19 temp=0.57\n",
      "20100. loss=139.17 temp=0.55\n",
      "20200. loss=139.15 temp=0.55\n",
      "20300. loss=139.12 temp=0.55\n",
      "20400. loss=139.10 temp=0.55\n",
      "20500. loss=139.08 temp=0.55\n",
      "20600. loss=139.06 temp=0.55\n",
      "20700. loss=139.04 temp=0.55\n",
      "20800. loss=139.02 temp=0.55\n",
      "20900. loss=139.00 temp=0.55\n",
      "21000. loss=138.98 temp=0.55\n",
      "21100. loss=138.96 temp=0.53\n",
      "21200. loss=138.94 temp=0.53\n",
      "21300. loss=138.92 temp=0.53\n",
      "21400. loss=138.90 temp=0.53\n",
      "21500. loss=138.88 temp=0.53\n",
      "21600. loss=138.87 temp=0.53\n",
      "21700. loss=138.84 temp=0.53\n",
      "21800. loss=138.83 temp=0.53\n",
      "21900. loss=138.80 temp=0.53\n",
      "22000. loss=138.79 temp=0.53\n",
      "22100. loss=138.77 temp=0.52\n",
      "22200. loss=138.75 temp=0.52\n",
      "22300. loss=138.73 temp=0.52\n",
      "22400. loss=138.72 temp=0.52\n",
      "22500. loss=138.70 temp=0.52\n",
      "22600. loss=138.68 temp=0.52\n",
      "22700. loss=138.67 temp=0.52\n",
      "22800. loss=138.65 temp=0.52\n",
      "22900. loss=138.63 temp=0.52\n",
      "23000. loss=138.62 temp=0.52\n",
      "23100. loss=138.60 temp=0.50\n",
      "23200. loss=138.59 temp=0.50\n",
      "23300. loss=138.57 temp=0.50\n",
      "23400. loss=138.56 temp=0.50\n",
      "23500. loss=138.54 temp=0.50\n",
      "23600. loss=138.53 temp=0.50\n",
      "23700. loss=138.52 temp=0.50\n",
      "23800. loss=138.50 temp=0.50\n",
      "23900. loss=138.48 temp=0.50\n",
      "24000. loss=138.47 temp=0.50\n",
      "24100. loss=138.45 temp=0.50\n",
      "24200. loss=138.44 temp=0.50\n",
      "24300. loss=138.42 temp=0.50\n",
      "24400. loss=138.41 temp=0.50\n",
      "24500. loss=138.40 temp=0.50\n",
      "24600. loss=138.38 temp=0.50\n",
      "24700. loss=138.37 temp=0.50\n",
      "24800. loss=138.36 temp=0.50\n",
      "24900. loss=138.34 temp=0.50\n",
      "25000. loss=138.33 temp=0.50\n",
      "25100. loss=138.32 temp=0.50\n",
      "25200. loss=138.30 temp=0.50\n",
      "25300. loss=138.29 temp=0.50\n",
      "25400. loss=138.27 temp=0.50\n",
      "25500. loss=138.26 temp=0.50\n",
      "25600. loss=138.25 temp=0.50\n",
      "25700. loss=138.23 temp=0.50\n",
      "25800. loss=138.22 temp=0.50\n",
      "25900. loss=138.21 temp=0.50\n",
      "26000. loss=138.20 temp=0.50\n",
      "26100. loss=138.18 temp=0.50\n",
      "26200. loss=138.17 temp=0.50\n",
      "26300. loss=138.16 temp=0.50\n",
      "26400. loss=138.15 temp=0.50\n",
      "26500. loss=138.14 temp=0.50\n",
      "26600. loss=138.12 temp=0.50\n",
      "26700. loss=138.12 temp=0.50\n",
      "26800. loss=138.10 temp=0.50\n",
      "26900. loss=138.09 temp=0.50\n",
      "27000. loss=138.08 temp=0.50\n",
      "27100. loss=138.07 temp=0.50\n",
      "27200. loss=138.06 temp=0.50\n",
      "27300. loss=138.05 temp=0.50\n",
      "27400. loss=138.04 temp=0.50\n",
      "27500. loss=138.03 temp=0.50\n",
      "27600. loss=138.02 temp=0.50\n",
      "27700. loss=138.01 temp=0.50\n",
      "27800. loss=138.00 temp=0.50\n",
      "27900. loss=137.99 temp=0.50\n",
      "28000. loss=137.98 temp=0.50\n",
      "28100. loss=137.98 temp=0.50\n",
      "28200. loss=137.97 temp=0.50\n",
      "28300. loss=137.96 temp=0.50\n",
      "28400. loss=137.96 temp=0.50\n",
      "28500. loss=137.95 temp=0.50\n",
      "28600. loss=137.94 temp=0.50\n"
     ]
    },
    {
     "name": "stdout",
     "output_type": "stream",
     "text": [
      "28700. loss=137.93 temp=0.50\n",
      "28800. loss=137.92 temp=0.50\n",
      "28900. loss=137.92 temp=0.50\n",
      "29000. loss=137.91 temp=0.50\n",
      "29100. loss=137.90 temp=0.50\n",
      "29200. loss=137.89 temp=0.50\n",
      "29300. loss=137.89 temp=0.50\n",
      "29400. loss=137.88 temp=0.50\n",
      "29500. loss=137.87 temp=0.50\n",
      "29600. loss=137.87 temp=0.50\n",
      "29700. loss=137.86 temp=0.50\n",
      "29800. loss=137.85 temp=0.50\n",
      "29900. loss=137.85 temp=0.50\n",
      "30000. loss=137.84 temp=0.50\n",
      "30100. loss=137.83 temp=0.50\n",
      "30200. loss=137.83 temp=0.50\n",
      "30300. loss=137.83 temp=0.50\n",
      "30400. loss=137.82 temp=0.50\n",
      "30500. loss=137.82 temp=0.50\n",
      "30600. loss=137.81 temp=0.50\n",
      "30700. loss=137.81 temp=0.50\n",
      "30800. loss=137.80 temp=0.50\n",
      "30900. loss=137.80 temp=0.50\n",
      "31000. loss=137.79 temp=0.50\n",
      "31100. loss=137.78 temp=0.50\n",
      "31200. loss=137.78 temp=0.50\n",
      "31300. loss=137.78 temp=0.50\n",
      "31400. loss=137.77 temp=0.50\n",
      "31500. loss=137.77 temp=0.50\n",
      "31600. loss=137.77 temp=0.50\n",
      "31700. loss=137.76 temp=0.50\n",
      "31800. loss=137.76 temp=0.50\n",
      "31900. loss=137.76 temp=0.50\n",
      "32000. loss=137.75 temp=0.50\n",
      "32100. loss=137.75 temp=0.50\n",
      "32200. loss=137.75 temp=0.50\n",
      "32300. loss=137.74 temp=0.50\n",
      "32400. loss=137.74 temp=0.50\n",
      "32500. loss=137.74 temp=0.50\n",
      "32600. loss=137.74 temp=0.50\n",
      "32700. loss=137.73 temp=0.50\n",
      "32800. loss=137.73 temp=0.50\n",
      "32900. loss=137.72 temp=0.50\n",
      "33000. loss=137.72 temp=0.50\n",
      "33100. loss=137.72 temp=0.50\n",
      "33200. loss=137.72 temp=0.50\n",
      "33300. loss=137.71 temp=0.50\n",
      "33400. loss=137.71 temp=0.50\n",
      "33500. loss=137.71 temp=0.50\n",
      "33600. loss=137.70 temp=0.50\n",
      "33700. loss=137.70 temp=0.50\n",
      "33800. loss=137.70 temp=0.50\n",
      "33900. loss=137.70 temp=0.50\n",
      "34000. loss=137.70 temp=0.50\n",
      "34100. loss=137.70 temp=0.50\n",
      "34200. loss=137.69 temp=0.50\n",
      "34300. loss=137.69 temp=0.50\n",
      "34400. loss=137.69 temp=0.50\n",
      "34500. loss=137.69 temp=0.50\n",
      "34600. loss=137.69 temp=0.50\n",
      "34700. loss=137.69 temp=0.50\n",
      "34800. loss=137.69 temp=0.50\n",
      "34900. loss=137.69 temp=0.50\n",
      "35000. loss=137.69 temp=0.50\n",
      "35100. loss=137.69 temp=0.50\n",
      "35200. loss=137.69 temp=0.50\n",
      "35300. loss=137.69 temp=0.50\n",
      "35400. loss=137.69 temp=0.50\n",
      "35500. loss=137.69 temp=0.50\n",
      "35600. loss=137.69 temp=0.50\n",
      "35700. loss=137.69 temp=0.50\n",
      "35800. loss=137.69 temp=0.50\n",
      "35900. loss=137.69 temp=0.50\n",
      "36000. loss=137.69 temp=0.50\n",
      "36100. loss=137.69 temp=0.50\n",
      "36200. loss=137.69 temp=0.50\n",
      "36300. loss=137.69 temp=0.50\n",
      "36400. loss=137.69 temp=0.50\n",
      "36500. loss=137.69 temp=0.50\n",
      "36600. loss=137.69 temp=0.50\n",
      "36700. loss=137.69 temp=0.50\n",
      "36800. loss=137.69 temp=0.50\n",
      "36900. loss=137.69 temp=0.50\n",
      "37000. loss=137.69 temp=0.50\n",
      "37100. loss=137.69 temp=0.50\n",
      "37200. loss=137.69 temp=0.50\n",
      "37300. loss=137.69 temp=0.50\n",
      "37400. loss=137.69 temp=0.50\n",
      "37500. loss=137.69 temp=0.50\n",
      "37600. loss=137.69 temp=0.50\n",
      "37700. loss=137.69 temp=0.50\n",
      "37800. loss=137.69 temp=0.50\n",
      "37900. loss=137.69 temp=0.50\n",
      "38000. loss=137.69 temp=0.50\n",
      "38100. loss=137.69 temp=0.50\n",
      "38200. loss=137.69 temp=0.50\n",
      "38300. loss=137.69 temp=0.50\n",
      "38400. loss=137.69 temp=0.50\n",
      "38500. loss=137.70 temp=0.50\n",
      "38600. loss=137.70 temp=0.50\n",
      "38700. loss=137.70 temp=0.50\n",
      "38800. loss=137.70 temp=0.50\n",
      "38900. loss=137.70 temp=0.50\n",
      "39000. loss=137.70 temp=0.50\n",
      "39100. loss=137.70 temp=0.50\n",
      "39200. loss=137.71 temp=0.50\n",
      "39300. loss=137.71 temp=0.50\n",
      "39400. loss=137.71 temp=0.50\n",
      "39500. loss=137.71 temp=0.50\n",
      "39600. loss=137.71 temp=0.50\n",
      "39700. loss=137.72 temp=0.50\n",
      "39800. loss=137.72 temp=0.50\n",
      "39900. loss=137.72 temp=0.50\n",
      "40000. loss=137.72 temp=0.50\n",
      "40100. loss=137.73 temp=0.50\n",
      "40200. loss=137.73 temp=0.50\n",
      "40300. loss=137.73 temp=0.50\n",
      "40400. loss=137.73 temp=0.50\n",
      "40500. loss=137.74 temp=0.50\n",
      "40600. loss=137.74 temp=0.50\n",
      "40700. loss=137.74 temp=0.50\n",
      "40800. loss=137.75 temp=0.50\n",
      "40900. loss=137.75 temp=0.50\n",
      "41000. loss=137.75 temp=0.50\n",
      "41100. loss=137.76 temp=0.50\n",
      "41200. loss=137.76 temp=0.50\n",
      "41300. loss=137.77 temp=0.50\n",
      "41400. loss=137.77 temp=0.50\n",
      "41500. loss=137.77 temp=0.50\n",
      "41600. loss=137.78 temp=0.50\n",
      "41700. loss=137.78 temp=0.50\n",
      "41800. loss=137.79 temp=0.50\n",
      "41900. loss=137.79 temp=0.50\n",
      "42000. loss=137.80 temp=0.50\n",
      "42100. loss=137.80 temp=0.50\n",
      "42200. loss=137.81 temp=0.50\n",
      "42300. loss=137.81 temp=0.50\n",
      "42400. loss=137.82 temp=0.50\n",
      "42500. loss=137.83 temp=0.50\n",
      "42600. loss=137.83 temp=0.50\n",
      "42700. loss=137.84 temp=0.50\n",
      "42800. loss=137.84 temp=0.50\n",
      "42900. loss=137.85 temp=0.50\n",
      "43000. loss=137.85 temp=0.50\n",
      "43100. loss=137.86 temp=0.50\n",
      "43200. loss=137.86 temp=0.50\n",
      "43300. loss=137.87 temp=0.50\n",
      "43400. loss=137.87 temp=0.50\n",
      "43500. loss=137.88 temp=0.50\n",
      "43600. loss=137.88 temp=0.50\n",
      "43700. loss=137.89 temp=0.50\n",
      "43800. loss=137.89 temp=0.50\n",
      "43900. loss=137.90 temp=0.50\n",
      "44000. loss=137.90 temp=0.50\n",
      "44100. loss=137.91 temp=0.50\n",
      "44200. loss=137.91 temp=0.50\n",
      "44300. loss=137.92 temp=0.50\n",
      "44400. loss=137.92 temp=0.50\n",
      "44500. loss=137.93 temp=0.50\n",
      "44600. loss=137.94 temp=0.50\n",
      "44700. loss=137.94 temp=0.50\n",
      "44800. loss=137.95 temp=0.50\n",
      "44900. loss=137.95 temp=0.50\n",
      "45000. loss=137.96 temp=0.50\n",
      "45100. loss=137.97 temp=0.50\n",
      "45200. loss=137.97 temp=0.50\n",
      "45300. loss=137.98 temp=0.50\n",
      "45400. loss=137.99 temp=0.50\n",
      "45500. loss=137.99 temp=0.50\n",
      "45600. loss=138.00 temp=0.50\n",
      "45700. loss=138.01 temp=0.50\n",
      "45800. loss=138.01 temp=0.50\n",
      "45900. loss=138.02 temp=0.50\n",
      "46000. loss=138.03 temp=0.50\n",
      "46100. loss=138.03 temp=0.50\n",
      "46200. loss=138.04 temp=0.50\n",
      "46300. loss=138.05 temp=0.50\n",
      "46400. loss=138.06 temp=0.50\n",
      "46500. loss=138.07 temp=0.50\n",
      "46600. loss=138.07 temp=0.50\n",
      "46700. loss=138.08 temp=0.50\n",
      "46800. loss=138.09 temp=0.50\n",
      "46900. loss=138.10 temp=0.50\n",
      "47000. loss=138.11 temp=0.50\n",
      "47100. loss=138.12 temp=0.50\n",
      "47200. loss=138.12 temp=0.50\n",
      "47300. loss=138.13 temp=0.50\n",
      "47400. loss=138.14 temp=0.50\n",
      "47500. loss=138.15 temp=0.50\n",
      "47600. loss=138.16 temp=0.50\n",
      "47700. loss=138.16 temp=0.50\n",
      "47800. loss=138.17 temp=0.50\n",
      "47900. loss=138.18 temp=0.50\n",
      "48000. loss=138.19 temp=0.50\n",
      "48100. loss=138.20 temp=0.50\n",
      "48200. loss=138.21 temp=0.50\n",
      "48300. loss=138.21 temp=0.50\n",
      "48400. loss=138.22 temp=0.50\n",
      "48500. loss=138.23 temp=0.50\n",
      "48600. loss=138.24 temp=0.50\n",
      "48700. loss=138.25 temp=0.50\n",
      "48800. loss=138.26 temp=0.50\n",
      "48900. loss=138.26 temp=0.50\n",
      "49000. loss=138.28 temp=0.50\n",
      "49100. loss=138.28 temp=0.50\n",
      "49200. loss=138.29 temp=0.50\n",
      "49300. loss=138.30 temp=0.50\n",
      "49400. loss=138.31 temp=0.50\n",
      "49500. loss=138.32 temp=0.50\n",
      "49600. loss=138.33 temp=0.50\n",
      "49700. loss=138.34 temp=0.50\n",
      "49800. loss=138.35 temp=0.50\n",
      "49900. loss=138.36 temp=0.50\n",
      "50000. loss=138.37 temp=0.50\n"
     ]
    }
   ],
   "source": [
    "while i<NUM_ITERS:\n",
    "\n",
    "    for np_x, labels in train_ds:\n",
    "        \n",
    "        with tf.GradientTape() as tape:        \n",
    "            p_x, q_y, y = vae(np_x, temperature=np_temp)\n",
    "            l = loss(np_x, p_x, q_y, y)\n",
    "            losses.append(float(l)); \n",
    "        g = tape.gradient(l, vae.trainable_variables)\n",
    "        optimizer.apply_gradients(zip(g, vae.trainable_variables))\n",
    "        \n",
    "        if i % 1000 == 1:\n",
    "            np_temp = np.maximum(tau0*np.exp(-ANNEAL_RATE*i),MIN_TEMP)\n",
    "            \n",
    "        ########################################################################\n",
    "\n",
    "        dat.append([i,np_temp,l])\n",
    "    \n",
    "        if i%100==0: \n",
    "            print(\"%i. loss=%.2f temp=%.2f\" % (i, np.mean(losses), np_temp) )\n",
    "            \n",
    "            if np.mean(losses)<best_loss: # track the best over 100 iterations\n",
    "                best_loss = np.mean(losses)\n",
    "                best_vae = copy.deepcopy(vae)                        \n",
    "        i += 1\n",
    "        \n"
   ]
  },
  {
   "cell_type": "code",
   "execution_count": 13,
   "metadata": {},
   "outputs": [],
   "source": [
    "# use the best from observed\n",
    "vae = best_vae            "
   ]
  },
  {
   "cell_type": "markdown",
   "metadata": {
    "colab_type": "text",
    "id": "H3AWzRqFiqYV"
   },
   "source": [
    "## Training Curves"
   ]
  },
  {
   "cell_type": "code",
   "execution_count": 24,
   "metadata": {
    "colab": {},
    "colab_type": "code",
    "id": "7cvJaiSNiqYX"
   },
   "outputs": [],
   "source": [
    "dat=np.array(dat).T"
   ]
  },
  {
   "cell_type": "code",
   "execution_count": 40,
   "metadata": {
    "colab": {
     "base_uri": "https://localhost:8080/",
     "height": 283
    },
    "colab_type": "code",
    "id": "DUHQi-0giqYc",
    "outputId": "cf23f4a4-cc46-4b1f-c41b-866ed060a06e"
   },
   "outputs": [
    {
     "data": {
      "text/plain": [
       "(90, 185)"
      ]
     },
     "execution_count": 40,
     "metadata": {},
     "output_type": "execute_result"
    },
    {
     "data": {
      "image/png": "[encoded data removed]",
      "text/plain": [
       "<Figure size 432x288 with 2 Axes>"
      ]
     },
     "metadata": {
      "needs_background": "light"
     },
     "output_type": "display_data"
    }
   ],
   "source": [
    "f,axarr=plt.subplots(1,2)\n",
    "axarr[0].plot(dat[0],dat[1])\n",
    "axarr[0].set_ylabel('Temperature')\n",
    "axarr[1].plot(dat[0],dat[2])\n",
    "axarr[1].set_ylabel('-ELBO')\n",
    "axarr[1].set_ylim((90,185))"
   ]
  },
  {
   "cell_type": "markdown",
   "metadata": {},
   "source": [
    "## Reconstruction"
   ]
  },
  {
   "cell_type": "code",
   "execution_count": 37,
   "metadata": {
    "colab": {},
    "colab_type": "code",
    "id": "eyR7mEediqX2"
   },
   "outputs": [],
   "source": [
    "import matplotlib.animation as animation\n",
    "from matplotlib import pyplot as plt"
   ]
  },
  {
   "cell_type": "code",
   "execution_count": 38,
   "metadata": {
    "colab": {},
    "colab_type": "code",
    "id": "xyYdoTHNiqXg"
   },
   "outputs": [],
   "source": [
    "np_x1 = x_train[-BATCH_SIZE:]\n",
    "p_x, q_y, y = vae(np_x1)\n",
    "np_x2 = p_x.mean()\n"
   ]
  },
  {
   "cell_type": "code",
   "execution_count": 39,
   "metadata": {},
   "outputs": [
    {
     "data": {
      "image/png": "[encoded data removed]",
      "text/plain": [
       "<Figure size 432x288 with 1 Axes>"
      ]
     },
     "metadata": {
      "needs_background": "light"
     },
     "output_type": "display_data"
    },
    {
     "data": {
      "image/png": "[encoded data removed]",
      "text/plain": [
       "<Figure size 432x288 with 1 Axes>"
      ]
     },
     "metadata": {
      "needs_background": "light"
     },
     "output_type": "display_data"
    },
    {
     "data": {
      "image/png": "[encoded data removed]",
      "text/plain": [
       "<Figure size 432x288 with 1 Axes>"
      ]
     },
     "metadata": {
      "needs_background": "light"
     },
     "output_type": "display_data"
    },
    {
     "data": {
      "image/png": "[encoded data removed]",
      "text/plain": [
       "<Figure size 432x288 with 1 Axes>"
      ]
     },
     "metadata": {
      "needs_background": "light"
     },
     "output_type": "display_data"
    },
    {
     "data": {
      "image/png": "[encoded data removed]",
      "text/plain": [
       "<Figure size 432x288 with 1 Axes>"
      ]
     },
     "metadata": {
      "needs_background": "light"
     },
     "output_type": "display_data"
    },
    {
     "data": {
      "image/png": "[encoded data removed]",
      "text/plain": [
       "<Figure size 432x288 with 1 Axes>"
      ]
     },
     "metadata": {
      "needs_background": "light"
     },
     "output_type": "display_data"
    },
    {
     "data": {
      "image/png": "[encoded data removed]",
      "text/plain": [
       "<Figure size 432x288 with 1 Axes>"
      ]
     },
     "metadata": {
      "needs_background": "light"
     },
     "output_type": "display_data"
    },
    {
     "data": {
      "image/png": "[encoded data removed]",
      "text/plain": [
       "<Figure size 432x288 with 1 Axes>"
      ]
     },
     "metadata": {
      "needs_background": "light"
     },
     "output_type": "display_data"
    },
    {
     "data": {
      "image/png": "[encoded data removed]",
      "text/plain": [
       "<Figure size 432x288 with 1 Axes>"
      ]
     },
     "metadata": {
      "needs_background": "light"
     },
     "output_type": "display_data"
    },
    {
     "data": {
      "image/png": "[encoded data removed]",
      "text/plain": [
       "<Figure size 432x288 with 1 Axes>"
      ]
     },
     "metadata": {
      "needs_background": "light"
     },
     "output_type": "display_data"
    },
    {
     "data": {
      "image/png": "[encoded data removed]",
      "text/plain": [
       "<Figure size 432x288 with 1 Axes>"
      ]
     },
     "metadata": {
      "needs_background": "light"
     },
     "output_type": "display_data"
    },
    {
     "data": {
      "image/png": "[encoded data removed]",
      "text/plain": [
       "<Figure size 432x288 with 1 Axes>"
      ]
     },
     "metadata": {
      "needs_background": "light"
     },
     "output_type": "display_data"
    },
    {
     "data": {
      "image/png": "[encoded data removed]",
      "text/plain": [
       "<Figure size 432x288 with 1 Axes>"
      ]
     },
     "metadata": {
      "needs_background": "light"
     },
     "output_type": "display_data"
    },
    {
     "data": {
      "image/png": "[encoded data removed]",
      "text/plain": [
       "<Figure size 432x288 with 1 Axes>"
      ]
     },
     "metadata": {
      "needs_background": "light"
     },
     "output_type": "display_data"
    },
    {
     "data": {
      "image/png": "[encoded data removed]",
      "text/plain": [
       "<Figure size 432x288 with 1 Axes>"
      ]
     },
     "metadata": {
      "needs_background": "light"
     },
     "output_type": "display_data"
    },
    {
     "data": {
      "image/png": "[encoded data removed]",
      "text/plain": [
       "<Figure size 432x288 with 1 Axes>"
      ]
     },
     "metadata": {
      "needs_background": "light"
     },
     "output_type": "display_data"
    },
    {
     "data": {
      "image/png": "[encoded data removed]",
      "text/plain": [
       "<Figure size 432x288 with 1 Axes>"
      ]
     },
     "metadata": {
      "needs_background": "light"
     },
     "output_type": "display_data"
    },
    {
     "data": {
      "image/png": "[encoded data removed]",
      "text/plain": [
       "<Figure size 432x288 with 1 Axes>"
      ]
     },
     "metadata": {
      "needs_background": "light"
     },
     "output_type": "display_data"
    },
    {
     "data": {
      "image/png": "[encoded data removed]",
      "text/plain": [
       "<Figure size 432x288 with 1 Axes>"
      ]
     },
     "metadata": {
      "needs_background": "light"
     },
     "output_type": "display_data"
    },
    {
     "data": {
      "image/png": "[encoded data removed]",
      "text/plain": [
       "<Figure size 432x288 with 1 Axes>"
      ]
     },
     "metadata": {
      "needs_background": "light"
     },
     "output_type": "display_data"
    }
   ],
   "source": [
    "for i in range(10):\n",
    "    plt.imshow(np_x1[i].numpy().reshape((28,28))); plt.show()\n",
    "    plt.imshow(np_x2[i].numpy().reshape((28,28))); plt.show()"
   ]
  },
  {
   "cell_type": "markdown",
   "metadata": {
    "colab_type": "text",
    "id": "7xmiYkdEiqYn"
   },
   "source": [
    "## Unconditional generation\n",
    "\n",
    "This consists of sampling from the prior $p_\\theta(y)$ and passing it through decoder of the model."
   ]
  },
  {
   "cell_type": "code",
   "execution_count": 44,
   "metadata": {},
   "outputs": [
    {
     "data": {
      "image/png": "[encoded data removed]",
      "text/plain": [
       "<Figure size 460.8x460.8 with 1 Axes>"
      ]
     },
     "metadata": {},
     "output_type": "display_data"
    }
   ],
   "source": [
    "np.random.seed(0)\n",
    "ys = []\n",
    "for _ in range(10):\n",
    "    xs = []\n",
    "    for _ in range(10):\n",
    "        np_y = np.zeros((N,K))\n",
    "        np_y[range(N),np.random.choice(K,N)] = 1\n",
    "        np_y = np.reshape(np_y,[1,N,K])\n",
    "\n",
    "        logits_x = vae.calc_logits_x(tf.constant(np_y, dtype=tf.float32)) \n",
    "        p_x = tfp.distributions.Bernoulli(logits=logits_x)\n",
    "        np_x = p_x.mean().numpy()[0].reshape((28,28))\n",
    "        xs.append(np_x)\n",
    "    ys.append(np.hstack(xs))\n",
    "img = np.vstack(ys)   \n",
    "\n",
    "fig = plt.figure(figsize=(6.4, 6.4), dpi=72)\n",
    "plt.imshow(img, cmap=plt.cm.gray,interpolation='none')\n",
    "plt.xticks([],{})\n",
    "plt.yticks([],{})\n",
    "plt.savefig(\"vae_concrete.pdf\", bbox_inches = 'tight', pad_inches =0)"
   ]
  },
  {
   "cell_type": "code",
   "execution_count": null,
   "metadata": {},
   "outputs": [],
   "source": []
  }
 ],
 "metadata": {
  "accelerator": "GPU",
  "colab": {
   "name": "CategoricalVAE_TF2.ipynb",
   "provenance": []
  },
  "kernelspec": {
   "display_name": "Python 3",
   "language": "python",
   "name": "python3"
  },
  "language_info": {
   "codemirror_mode": {
    "name": "ipython",
    "version": 3
   },
   "file_extension": ".py",
   "mimetype": "text/x-python",
   "name": "python",
   "nbconvert_exporter": "python",
   "pygments_lexer": "ipython3",
   "version": "3.7.4"
  }
 },
 "nbformat": 4,
 "nbformat_minor": 1
}
