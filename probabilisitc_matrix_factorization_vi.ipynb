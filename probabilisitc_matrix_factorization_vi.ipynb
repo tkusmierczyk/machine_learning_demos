{
 "cells": [
  {
   "cell_type": "markdown",
   "metadata": {},
   "source": [
    "# Probabilistc Matrix Factorization model with mean-field variational inference - pyTorch implementation."
   ]
  },
  {
   "cell_type": "markdown",
   "metadata": {},
   "source": [
    "We train a Probabilistic Matrix Factorization model [1] using mean-field variational inference with automatic differentiation [2] in pyTorch. Our implementation works on dense representation and does not make a use of data sparsity but performs minibatching over data (matrix) rows"
   ]
  },
  {
   "cell_type": "markdown",
   "metadata": {},
   "source": [
    "1. Mnih, Andriy, and Russ R. Salakhutdinov. \"Probabilistic matrix factorization.\" Advances in neural information processing systems. 2008.\n",
    "2. Kucukelbir, Alp, et al. \"Automatic differentiation variational inference.\" The Journal of Machine Learning Research 18.1 (2017): 430-474."
   ]
  },
  {
   "cell_type": "markdown",
   "metadata": {},
   "source": [
    "## Imports"
   ]
  },
  {
   "cell_type": "code",
   "execution_count": 1,
   "metadata": {},
   "outputs": [],
   "source": [
    "import numpy as np\n",
    "\n",
    "import torch\n",
    "from torch.distributions import Normal\n",
    "from torch.nn.functional import softplus\n",
    "\n",
    "import logging\n",
    "logger = logging.getLogger(__name__)"
   ]
  },
  {
   "cell_type": "markdown",
   "metadata": {},
   "source": [
    "## Data minibatches"
   ]
  },
  {
   "cell_type": "markdown",
   "metadata": {},
   "source": [
    "To create minibatches we split data along the first dimension:\n",
    "each batch consists of subset of rows.\n",
    "Apart from the data matrix we pass an associated data mask\n",
    "marking non-empty (and included in the training subset) cells."
   ]
  },
  {
   "cell_type": "code",
   "execution_count": 2,
   "metadata": {},
   "outputs": [],
   "source": [
    "class MaskedMatrix(torch.utils.data.Dataset):\n",
    "    \"\"\" Splits masked data along the first (rows) dimension. \"\"\"\n",
    "    \n",
    "    def __init__(self, x, mask):\n",
    "        self.x = x\n",
    "        self.mask = mask        \n",
    "\n",
    "    def __len__(self):\n",
    "        return self.x.shape[0]\n",
    "\n",
    "    def __getitem__(self, idx):        \n",
    "        if torch.is_tensor(idx):\n",
    "            idx = idx.tolist()        \n",
    "        return {\"rows\": idx, \"x\": self.x[idx], \"mask\": self.mask[idx]}     "
   ]
  },
  {
   "cell_type": "markdown",
   "metadata": {},
   "source": [
    "## Model"
   ]
  },
  {
   "cell_type": "markdown",
   "metadata": {},
   "source": [
    "Below we provide a complete implementation of mean-field automatic VI for PMF. Read through comments to find about details."
   ]
  },
  {
   "cell_type": "code",
   "execution_count": 3,
   "metadata": {},
   "outputs": [],
   "source": [
    "class PMF_MFVI:\n",
    "    \"\"\" Toy implementation of Probabilistc Matrix Factorization \n",
    "        training using mean-field automatic VI \n",
    "        with minibatching over data rows.\n",
    "        \n",
    "        Probabilistc Matrix Factorization model: \n",
    "        X ~ N(ZW, sigma), W ~ prior_w(.), Z ~ prior_z(.)\n",
    "        where Y has shape (N, D), Z has shape (N, K) and W has shape(K, D).    \n",
    "        K is a latent dimension - size of latent representation.\n",
    "        By default we use \n",
    "        prior_z=Normal(0, 1.), prior_w = Normal(0, 1.) and sigma=1.\n",
    "        \n",
    "        We assume approximate (factorized) distributions q:\n",
    "        qz_ij = Normal(qz_ij_loc, qz_ij_scale)\n",
    "        qw_ij = Normal(qw_ij_loc, qw_ij_scale)\n",
    "        Internally we store 4 matrices: \n",
    "         - qz_loc, qz_scale - describing approximate posterior of Z\n",
    "         - qw_loc, qw_scale - describing approximate posterior of W        \n",
    "    \"\"\"\n",
    "    \n",
    "    def __init__(self, N=1, K=1, D=1,  \n",
    "                 optimizer_class=torch.optim.Adam, lr=0.005,\n",
    "                 prior_z=Normal(0, 1.), prior_w = Normal(0, 1.), \n",
    "                 likelihood_class=lambda xhat: Normal(xhat, 1.)):        \n",
    "        self.prior_z = prior_z\n",
    "        self.prior_w = prior_w\n",
    "        self.likelihood_class = likelihood_class\n",
    "        \n",
    "        self.optimizer_class = optimizer_class\n",
    "        self.lr = lr\n",
    "        \n",
    "        self.N = N\n",
    "        self.K = K\n",
    "        self.D = D        \n",
    "        self.restart()\n",
    "\n",
    "    def restart(self):\n",
    "        \"\"\" Random initialization of approximate posteriors. \"\"\"\n",
    "        N, K, D = self.N, self.K, self.D # just for brevity\n",
    "        \n",
    "        self.qz_loc = torch.randn([N, K], requires_grad=True)\n",
    "        self.qz_scale = torch.randn([N, K], requires_grad=True)\n",
    "        self.qw_loc = torch.randn([K, D], requires_grad=True)\n",
    "        self.qw_scale = torch.randn([K, D], requires_grad=True)          \n",
    "        \n",
    "        trained_params = [self.qw_loc, self.qw_scale, self.qz_loc, self.qz_scale]\n",
    "        self.optimizer = self.optimizer_class(trained_params, lr=self.lr)\n",
    "        self._iteration = 0\n",
    "    \n",
    "    def sample_prior(self, nsamples_latent=1, nsamples_x=1):\n",
    "        \"\"\" Returns a sample (w, z, x) from prior distribution.\n",
    "        \n",
    "            Args:\n",
    "                nsamples_latent (int): How many samples of Z and W.\n",
    "                nsamples_x (int): How many samples of X for each latent sample.\n",
    "        \"\"\"        \n",
    "        # sample (r stands for reparametrized) latent\n",
    "        z = self.prior_w.rsample([nsamples_latent, self.N, self.K])\n",
    "        w = self.prior_z.rsample([nsamples_latent, self.K, self.D])\n",
    "        xhat = z.matmul(w)\n",
    "        \n",
    "        # sample (r stands for reparametrized) observed\n",
    "        lik = self.likelihood_class(xhat)\n",
    "        x = lik.rsample([nsamples_x])\n",
    "       \n",
    "        if nsamples_latent==1 and nsamples_x==1:\n",
    "            w, z, x = w[0], z[0], x[0,0]        \n",
    "        return w, z, x  \n",
    "\n",
    "    @property\n",
    "    def qw(self):\n",
    "        \"\"\" Retrieves approximating distribution of latent variable W. \"\"\"\n",
    "        return Normal(self.qw_loc, softplus(self.qw_scale))\n",
    "    \n",
    "    @property\n",
    "    def qz(self):\n",
    "        \"\"\" Retrieves approximating distribution of latent variable Z. \"\"\"\n",
    "        return Normal(self.qz_loc, softplus(self.qz_scale))            \n",
    "    \n",
    "    def sample(self, nsamples_latent=1, nsamples_x=1):  \n",
    "        \"\"\" Returns a tensor with samples from approximate predictive distribution.  \n",
    "            Samples are reparametrized, e.g., are differentiable w.r.t \n",
    "            approximate distribution parameters qz_loc, qz_scale, qw_loc and qw_scale.\n",
    "            \n",
    "            Args:\n",
    "                nsamples_latent (int): How many samples of Z and W.\n",
    "                nsamples_x (int): How many samples of X for each latent sample.\n",
    "        \"\"\"\n",
    "        # sample (r stands for reparametrized) latent\n",
    "        w = self.qw.rsample([nsamples_latent])\n",
    "        z = self.qz.rsample([nsamples_latent])\n",
    "        xhat = z.matmul(w)\n",
    "        \n",
    "        # sample (r stands for reparametrized) observed        \n",
    "        lik = self.likelihood_class(xhat)\n",
    "        x = lik.rsample([nsamples_x])\n",
    "\n",
    "        if nsamples_latent==1 and nsamples_x==1:\n",
    "            w, z, x = w[0], z[0], x[0,0]        \n",
    "        return x\n",
    "            \n",
    "    def model_log_prob(self, x, w, z, mask=None):\n",
    "        \"\"\" Joint log-probability of data x and parameters (w, z).\n",
    "        \n",
    "            Returns:\n",
    "                log(likelihood(x|w,z) * prior_w(w) * prior_z(z))                \n",
    "\n",
    "            Args:\n",
    "                mask (tensor): Boolean mask of shape like x, \n",
    "                               selecting non-empty cells.\n",
    "                               Default: None (use all data).\n",
    "        \"\"\"\n",
    "        if mask is None: \n",
    "            mask = torch.ones_like(x).type(torch.bool).to(x.device)\n",
    "        # since we are using mininbatches, the proprtion between data likelihood and \n",
    "        # priors need to be weighted accordingly (=like we used a whole data)        \n",
    "        minibatch_scaling = self.N/x.shape[0]  \n",
    "        \n",
    "        xhat = z.matmul(w)\n",
    "        likelihood = self.likelihood_class(xhat)\n",
    "        assert likelihood.loc.shape[1: ] == x.shape\n",
    "\n",
    "        # note rescaling of data likelihood and qz (the factor depending on number of rows)\n",
    "        return torch.masked_select(likelihood.log_prob(x), mask).sum()*minibatch_scaling \\\n",
    "                + self.prior_w.log_prob(w).sum() \\\n",
    "                + self.prior_z.log_prob(z).sum()*minibatch_scaling\n",
    "    \n",
    "    def elbo(self, x_minibatch, mask_minibatch, qw, qz,\n",
    "             latent_variables_nsamples=16): \n",
    "        \"\"\" Returns a MC estimate of ELBO \n",
    "            for given minibatch and approximations qw and qz. \"\"\"\n",
    "        \n",
    "        # reparametrized sampling from the approximation\n",
    "        w = qw.rsample([latent_variables_nsamples]) \n",
    "        z = qz.rsample([latent_variables_nsamples])\n",
    "\n",
    "        minibatch_scaling = self.N/x_minibatch.shape[0]                     \n",
    "        # MC estimate of the entropy term\n",
    "        entropy = -qw.log_prob(w).sum() -qz.log_prob(z).sum()*minibatch_scaling \n",
    "        # data and parameters joint log-probability\n",
    "        log_prob = self.model_log_prob(x_minibatch, w, z, mask_minibatch).sum()\n",
    "        # MC estimate of elbo\n",
    "        elbo = log_prob + entropy\n",
    "        elbo = elbo/latent_variables_nsamples\n",
    "        \n",
    "        return elbo   \n",
    "    \n",
    "    def fit(self, loader, nepochs=1, latent_variables_nsamples=16):\n",
    "        \"\"\" Runs requested number of epochs of data fitting. \"\"\"\n",
    "        \n",
    "        # check if dimensions match\n",
    "        if len(loader.dataset)!=self.N:\n",
    "            logger.warning(\"Reinitializing fit due to data length change!\")\n",
    "            self.N = len(loader.dataset)\n",
    "            self.restart()\n",
    "                    \n",
    "        for e in range(nepochs):\n",
    "          for minibatch in loader:  \n",
    "            \n",
    "            # check if dimensions match\n",
    "            assert minibatch[\"x\"].shape == minibatch[\"mask\"].shape                                    \n",
    "            if minibatch[\"x\"].shape[1]!=self.D:\n",
    "                logger.warning(\"Reinitializing fit due to data dimensionality change!\")\n",
    "                self.D = minibatch[\"x\"].shape[1]\n",
    "                self.restart()\n",
    "                \n",
    "            self._iteration += 1\n",
    "            self.optimizer.zero_grad()                                        \n",
    "\n",
    "            # obtain the current approximation\n",
    "            # (using current values of qz_loc, qz_scale, ...)\n",
    "            qw = Normal(self.qw_loc, softplus(self.qw_scale))\n",
    "            minibatch_rows = minibatch[\"rows\"]\n",
    "            qz = Normal(self.qz_loc[minibatch_rows, :], \n",
    "                        softplus(self.qz_scale[minibatch_rows, :] ))\n",
    "            \n",
    "            # use -ELBO as a loss\n",
    "            loss = -self.elbo(minibatch[\"x\"], minibatch[\"mask\"], \n",
    "                              qw, qz, latent_variables_nsamples)\n",
    "                        \n",
    "            # optimization step\n",
    "            logger.debug(\"%i. iteration: loss=%.3f\" % (self._iteration, loss))              \n",
    "            loss.backward(retain_graph=False)\n",
    "            self.optimizer.step() # update approximation parameters qz_loc, qz_scale, ...\n",
    "            \n",
    "          logger.info(\"%i. epoch / %i. iteration: loss=%.3f\" % \\\n",
    "                    (e+1, self._iteration, loss))                \n"
   ]
  },
  {
   "cell_type": "markdown",
   "metadata": {},
   "source": [
    "### Data generation"
   ]
  },
  {
   "cell_type": "markdown",
   "metadata": {},
   "source": [
    "Data is generated by sampling from prior distribution.\n",
    "Then, with probability nonmissing_p we choose 'non-empty' cells.\n",
    "Finally, the non-empty cells, according to probability training_p,\n",
    "we randomly split into training and test subset."
   ]
  },
  {
   "cell_type": "code",
   "execution_count": 4,
   "metadata": {},
   "outputs": [],
   "source": [
    "def generate_data(m=PMF_MFVI(123, 4, 11), \n",
    "                  nonmissing_p=0.05, training_p=0.5):\n",
    "    \"\"\" Samples artificial data from the model. \"\"\"\n",
    "    w_true, z_true, x = m.sample_prior()\n",
    "\n",
    "    # sample non-empty values, training & test mask\n",
    "    mask = np.random.choice([True, False], (m.N, m.D), \n",
    "                            p=[nonmissing_p, 1.-nonmissing_p])    \n",
    "    training_mask = np.random.choice([True, False], (m.N, m.D), \n",
    "                            p=[training_p, 1.-training_p])   \n",
    "    test_mask = ~training_mask & mask\n",
    "    training_mask = training_mask & mask\n",
    "    \n",
    "    test_mask = torch.tensor(test_mask) \n",
    "    training_mask = torch.tensor(training_mask)\n",
    "    \n",
    "    return w_true, z_true, x, training_mask, test_mask"
   ]
  },
  {
   "cell_type": "markdown",
   "metadata": {},
   "source": [
    "### Training"
   ]
  },
  {
   "cell_type": "code",
   "execution_count": 5,
   "metadata": {},
   "outputs": [],
   "source": [
    "    np.random.seed(125)\n",
    "    torch.manual_seed(125)\n",
    "    logging.basicConfig(level=logging.INFO, format='%(relativeCreated)6d %(message)s')"
   ]
  },
  {
   "cell_type": "markdown",
   "metadata": {},
   "source": [
    "Prepare data"
   ]
  },
  {
   "cell_type": "code",
   "execution_count": 6,
   "metadata": {},
   "outputs": [],
   "source": [
    "    w_true, z_true, x, training_mask, test_mask = generate_data()\n",
    "    dataset = MaskedMatrix(x, training_mask)\n",
    "    loader = torch.utils.data.DataLoader(dataset, batch_size=16, shuffle=True)"
   ]
  },
  {
   "cell_type": "markdown",
   "metadata": {},
   "source": [
    "Train and evaluate"
   ]
  },
  {
   "cell_type": "markdown",
   "metadata": {},
   "source": [
    " Note that for generated data latent dimension was K=4 whereas here we use K=2."
   ]
  },
  {
   "cell_type": "code",
   "execution_count": 7,
   "metadata": {},
   "outputs": [
    {
     "name": "stderr",
     "output_type": "stream",
     "text": [
      "   904 Reinitializing fit due to data length change!\n",
      "   906 Reinitializing fit due to data dimensionality change!\n",
      "   951 1. epoch / 8. iteration: loss=624.236\n",
      "  1014 1. epoch / 16. iteration: loss=761.019\n",
      "  1056 1. epoch / 24. iteration: loss=190.928\n",
      "  1104 1. epoch / 32. iteration: loss=588.584\n",
      "  1143 1. epoch / 40. iteration: loss=875.210\n",
      "  1175 1. epoch / 48. iteration: loss=185.768\n",
      "  1223 1. epoch / 56. iteration: loss=471.640\n",
      "  1264 1. epoch / 64. iteration: loss=215.421\n",
      "  1293 1. epoch / 72. iteration: loss=174.616\n",
      "  1323 1. epoch / 80. iteration: loss=269.268\n",
      "  1359 1. epoch / 88. iteration: loss=478.387\n",
      "  1395 1. epoch / 96. iteration: loss=832.257\n",
      "  1432 1. epoch / 104. iteration: loss=419.271\n",
      "  1466 1. epoch / 112. iteration: loss=294.042\n",
      "  1504 1. epoch / 120. iteration: loss=479.445\n",
      "  1548 1. epoch / 128. iteration: loss=280.792\n",
      "  1587 1. epoch / 136. iteration: loss=547.537\n",
      "  1631 1. epoch / 144. iteration: loss=365.749\n",
      "  1659 1. epoch / 152. iteration: loss=203.954\n",
      "  1701 1. epoch / 160. iteration: loss=324.055\n",
      "  1736 1. epoch / 168. iteration: loss=489.391\n",
      "  1768 1. epoch / 176. iteration: loss=659.209\n",
      "  1805 1. epoch / 184. iteration: loss=412.465\n",
      "  1842 1. epoch / 192. iteration: loss=393.279\n",
      "  1886 1. epoch / 200. iteration: loss=368.519\n",
      "  1930 1. epoch / 208. iteration: loss=451.228\n",
      "  1960 1. epoch / 216. iteration: loss=646.506\n",
      "  1997 1. epoch / 224. iteration: loss=443.929\n",
      "  2031 1. epoch / 232. iteration: loss=604.719\n",
      "  2089 1. epoch / 240. iteration: loss=124.173\n",
      "  2165 1. epoch / 248. iteration: loss=236.606\n",
      "  2223 1. epoch / 256. iteration: loss=184.306\n",
      "  2281 1. epoch / 264. iteration: loss=234.921\n",
      "  2339 1. epoch / 272. iteration: loss=417.215\n",
      "  2394 1. epoch / 280. iteration: loss=97.192\n",
      "  2451 1. epoch / 288. iteration: loss=358.701\n",
      "  2490 1. epoch / 296. iteration: loss=323.294\n",
      "  2533 1. epoch / 304. iteration: loss=240.400\n",
      "  2573 1. epoch / 312. iteration: loss=173.196\n",
      "  2633 1. epoch / 320. iteration: loss=202.643\n",
      "  2689 1. epoch / 328. iteration: loss=362.067\n",
      "  2765 1. epoch / 336. iteration: loss=185.725\n",
      "  2838 1. epoch / 344. iteration: loss=363.499\n",
      "  2915 1. epoch / 352. iteration: loss=482.095\n",
      "  2977 1. epoch / 360. iteration: loss=466.933\n",
      "  3030 1. epoch / 368. iteration: loss=85.720\n",
      "  3081 1. epoch / 376. iteration: loss=382.862\n",
      "  3127 1. epoch / 384. iteration: loss=342.272\n",
      "  3184 1. epoch / 392. iteration: loss=225.847\n",
      "  3247 1. epoch / 400. iteration: loss=667.565\n",
      "  3305 1. epoch / 408. iteration: loss=213.312\n",
      "  3363 1. epoch / 416. iteration: loss=253.120\n",
      "  3425 1. epoch / 424. iteration: loss=138.603\n",
      "  3473 1. epoch / 432. iteration: loss=342.023\n",
      "  3530 1. epoch / 440. iteration: loss=323.973\n",
      "  3586 1. epoch / 448. iteration: loss=304.633\n",
      "  3637 1. epoch / 456. iteration: loss=252.636\n",
      "  3682 1. epoch / 464. iteration: loss=169.384\n",
      "  3734 1. epoch / 472. iteration: loss=129.736\n",
      "  3784 1. epoch / 480. iteration: loss=356.967\n",
      "  3839 1. epoch / 488. iteration: loss=348.193\n",
      "  3888 1. epoch / 496. iteration: loss=349.409\n",
      "  3947 1. epoch / 504. iteration: loss=146.337\n",
      "  4009 1. epoch / 512. iteration: loss=201.821\n",
      "  4071 1. epoch / 520. iteration: loss=239.477\n",
      "  4130 1. epoch / 528. iteration: loss=451.567\n",
      "  4180 1. epoch / 536. iteration: loss=331.365\n",
      "  4236 1. epoch / 544. iteration: loss=165.443\n",
      "  4303 1. epoch / 552. iteration: loss=155.487\n",
      "  4362 1. epoch / 560. iteration: loss=191.218\n",
      "  4425 1. epoch / 568. iteration: loss=280.761\n",
      "  4488 1. epoch / 576. iteration: loss=238.270\n",
      "  4533 1. epoch / 584. iteration: loss=138.283\n",
      "  4597 1. epoch / 592. iteration: loss=171.779\n",
      "  4660 1. epoch / 600. iteration: loss=214.442\n",
      "  4722 1. epoch / 608. iteration: loss=181.456\n",
      "  4781 1. epoch / 616. iteration: loss=142.382\n",
      "  4838 1. epoch / 624. iteration: loss=147.901\n",
      "  4907 1. epoch / 632. iteration: loss=437.949\n",
      "  4960 1. epoch / 640. iteration: loss=31.688\n",
      "  5006 1. epoch / 648. iteration: loss=376.605\n",
      "  5076 1. epoch / 656. iteration: loss=205.605\n",
      "  5136 1. epoch / 664. iteration: loss=177.971\n",
      "  5190 1. epoch / 672. iteration: loss=132.118\n",
      "  5252 1. epoch / 680. iteration: loss=339.347\n",
      "  5300 1. epoch / 688. iteration: loss=95.703\n",
      "  5352 1. epoch / 696. iteration: loss=292.001\n",
      "  5412 1. epoch / 704. iteration: loss=447.294\n",
      "  5493 1. epoch / 712. iteration: loss=53.955\n",
      "  5567 1. epoch / 720. iteration: loss=113.164\n",
      "  5615 1. epoch / 728. iteration: loss=171.035\n",
      "  5663 1. epoch / 736. iteration: loss=67.417\n",
      "  5707 1. epoch / 744. iteration: loss=536.333\n",
      "  5761 1. epoch / 752. iteration: loss=55.543\n",
      "  5818 1. epoch / 760. iteration: loss=118.773\n",
      "  5876 1. epoch / 768. iteration: loss=76.536\n",
      "  5923 1. epoch / 776. iteration: loss=98.720\n",
      "  5988 1. epoch / 784. iteration: loss=373.185\n",
      "  6042 1. epoch / 792. iteration: loss=217.584\n",
      "  6093 1. epoch / 800. iteration: loss=172.852\n"
     ]
    }
   ],
   "source": [
    "    m = PMF_MFVI(K=2) # mismatched model\n",
    "    test_rmses = []\n",
    "    for e in range(100):\n",
    "        m.fit(loader)\n",
    "        \n",
    "        # evaluate on the test subset\n",
    "        predictions = m.sample(100).mean([0,1]) # empirical expectations\n",
    "        test_rmse = torch.masked_select((predictions-x)**2, test_mask).mean().sqrt()\n",
    "        test_rmses.append(test_rmse)"
   ]
  },
  {
   "cell_type": "markdown",
   "metadata": {},
   "source": [
    "Plot test RMSE vs epoch"
   ]
  },
  {
   "cell_type": "code",
   "execution_count": 9,
   "metadata": {},
   "outputs": [
    {
     "data": {
      "image/png": "[encoded data removed]",
      "text/plain": [
       "<Figure size 432x288 with 1 Axes>"
      ]
     },
     "metadata": {
      "needs_background": "light"
     },
     "output_type": "display_data"
    }
   ],
   "source": [
    "    import matplotlib.pyplot as plt\n",
    "    plt.figure()\n",
    "    plt.plot(test_rmses)\n",
    "    plt.xlabel(\"epoch\")\n",
    "    plt.ylabel(\"test RMSE\")\n",
    "    plt.show()    "
   ]
  },
  {
   "cell_type": "code",
   "execution_count": null,
   "metadata": {},
   "outputs": [],
   "source": []
  }
 ],
 "metadata": {
  "kernelspec": {
   "display_name": "Python 3",
   "language": "python",
   "name": "python3"
  },
  "language_info": {
   "codemirror_mode": {
    "name": "ipython",
    "version": 3
   },
   "file_extension": ".py",
   "mimetype": "text/x-python",
   "name": "python",
   "nbconvert_exporter": "python",
   "pygments_lexer": "ipython3",
   "version": "3.7.4"
  }
 },
 "nbformat": 4,
 "nbformat_minor": 2
}
