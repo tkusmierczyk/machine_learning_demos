{
  "cells": [
    {
      "cell_type": "markdown",
      "metadata": {},
      "source": [
        "# Calculating predictive mean from BNN with Dropout layers"
      ]
    },
    {
      "cell_type": "code",
      "execution_count": 47,
      "metadata": {
        "id": "Jwe1baSXgPmP"
      },
      "outputs": [],
      "source": [
        "import tensorflow as tf\n",
        "from tensorflow import keras"
      ]
    },
    {
      "cell_type": "markdown",
      "metadata": {
        "id": "LemCu5h68_3V"
      },
      "source": [
        "## A test network with Dropout layers"
      ]
    },
    {
      "cell_type": "code",
      "execution_count": 48,
      "metadata": {
        "id": "6fknShmLgNew"
      },
      "outputs": [],
      "source": [
        "class CustomModel(keras.Model):\n",
        "    def __init__(self, output_activation=None, activation=None, **kwargs):\n",
        "        super().__init__(**kwargs)\n",
        "        self.hidden1 = keras.layers.Dense(128, activation=activation)\n",
        "\n",
        "        self.hidden2 = keras.layers.Dense(32, activation=activation)\n",
        "        self.stochastic_layer2 = keras.layers.Dropout(rate=0.5)\n",
        "\n",
        "        self.hidden3 = keras.layers.Dense(16, activation=activation)\n",
        "        self.stochastic_layer3 = keras.layers.Dropout(rate=0.25)\n",
        "\n",
        "        self.output_layer = keras.layers.Dense(1, activation=output_activation)\n",
        "\n",
        "    def __call__(self, input, training=None):\n",
        "        hidden1 = self.hidden1(input)\n",
        "\n",
        "        hidden2 = self.hidden2(hidden1)\n",
        "        hidden2 = self.stochastic_layer2(hidden2, training=training)\n",
        "\n",
        "        hidden3 = self.hidden3(hidden2)\n",
        "        hidden3 = self.stochastic_layer3(hidden3, training=training)\n",
        "\n",
        "        output_layer = self.output_layer(hidden3)\n",
        "        return output_layer\n"
      ]
    },
    {
      "cell_type": "markdown",
      "metadata": {
        "id": "ABxQLtxS9F0I"
      },
      "source": [
        "## Sample input for which we will analyse predictive distributions"
      ]
    },
    {
      "cell_type": "code",
      "execution_count": 49,
      "metadata": {
        "id": "V-jjuahDgWsT"
      },
      "outputs": [],
      "source": [
        "x = tf.ones((1,3))"
      ]
    },
    {
      "cell_type": "markdown",
      "metadata": {
        "id": "cfElkDa5hPN_"
      },
      "source": [
        "## Results for a model with no non-linearities after dropout"
      ]
    },
    {
      "cell_type": "code",
      "execution_count": 50,
      "metadata": {
        "id": "ZzZw3Hw8gdoe"
      },
      "outputs": [],
      "source": [
        "# No activation\n",
        "model = CustomModel(activation=None, output_activation=None)"
      ]
    },
    {
      "cell_type": "markdown",
      "metadata": {
        "id": "xmgYauZLAOf7"
      },
      "source": [
        "Let's look on few samples from the predictive distribution:"
      ]
    },
    {
      "cell_type": "code",
      "execution_count": 51,
      "metadata": {
        "colab": {
          "base_uri": "https://localhost:8080/"
        },
        "id": "Q9lAdyrtgk9R",
        "outputId": "edf72fff-fdd3-419f-ff99-61f65e203b75"
      },
      "outputs": [
        {
          "data": {
            "text/plain": [
              "<tf.Tensor: shape=(1, 1), dtype=float32, numpy=array([[-0.7696812]], dtype=float32)>"
            ]
          },
          "execution_count": 51,
          "metadata": {},
          "output_type": "execute_result"
        }
      ],
      "source": [
        "model(x, training=True)"
      ]
    },
    {
      "cell_type": "code",
      "execution_count": 52,
      "metadata": {
        "colab": {
          "base_uri": "https://localhost:8080/"
        },
        "id": "maxoPDE3gnsk",
        "outputId": "8f8f8ce2-6085-4406-806b-dc30e24a1ac7"
      },
      "outputs": [
        {
          "data": {
            "text/plain": [
              "<tf.Tensor: shape=(1, 1), dtype=float32, numpy=array([[0.35197103]], dtype=float32)>"
            ]
          },
          "execution_count": 52,
          "metadata": {},
          "output_type": "execute_result"
        }
      ],
      "source": [
        "model(x, training=True)"
      ]
    },
    {
      "cell_type": "code",
      "execution_count": 53,
      "metadata": {
        "colab": {
          "base_uri": "https://localhost:8080/"
        },
        "id": "1uZ8yDQlgowi",
        "outputId": "d14ddf69-6e42-44b1-ac78-1340b5f0eefe"
      },
      "outputs": [
        {
          "data": {
            "text/plain": [
              "<tf.Tensor: shape=(1, 1), dtype=float32, numpy=array([[0.67026234]], dtype=float32)>"
            ]
          },
          "execution_count": 53,
          "metadata": {},
          "output_type": "execute_result"
        }
      ],
      "source": [
        "model(x, training=True)"
      ]
    },
    {
      "cell_type": "code",
      "execution_count": 54,
      "metadata": {
        "colab": {
          "base_uri": "https://localhost:8080/"
        },
        "id": "kX287ZLggrWf",
        "outputId": "8bf5185a-25c0-415c-f85e-4edce86450ef"
      },
      "outputs": [
        {
          "data": {
            "text/plain": [
              "<tf.Tensor: shape=(), dtype=float32, numpy=-0.31734434>"
            ]
          },
          "execution_count": 54,
          "metadata": {},
          "output_type": "execute_result"
        }
      ],
      "source": [
        "# Mean calculated from samples\n",
        "samples = model(tf.tile(x, [1000000, 1]), training=True)\n",
        "tf.reduce_mean(samples)"
      ]
    },
    {
      "cell_type": "code",
      "execution_count": 55,
      "metadata": {
        "colab": {
          "base_uri": "https://localhost:8080/"
        },
        "id": "bAsl70SGg0bv",
        "outputId": "e4b86ae4-921a-4554-8a95-ca6ca3c8c629"
      },
      "outputs": [
        {
          "data": {
            "text/plain": [
              "<tf.Tensor: shape=(1, 1), dtype=float32, numpy=array([[-0.31770444]], dtype=float32)>"
            ]
          },
          "execution_count": 55,
          "metadata": {},
          "output_type": "execute_result"
        }
      ],
      "source": [
        "# Mean from \"frozen\" dropout(s)\n",
        "model(x, training=False)"
      ]
    },
    {
      "cell_type": "markdown",
      "metadata": {
        "id": "HzmRJbM69YZX"
      },
      "source": [
        "**If there are not nonlinearities in the network, the mean estimated from multiple output samples matches the one obtained deterministically by switching Dropout layers mode (training=False) to return their (layer) means.**\n"
      ]
    },
    {
      "cell_type": "markdown",
      "metadata": {
        "id": "6V_UNov5hNPP"
      },
      "source": [
        "## Results for a model with nonlinear activations"
      ]
    },
    {
      "cell_type": "code",
      "execution_count": 56,
      "metadata": {
        "id": "oZ5xrGqDg8BK"
      },
      "outputs": [],
      "source": [
        "# Nonlinear activations in the network: play with output activations\n",
        "model = CustomModel(output_activation=\"tanh\", activation=\"relu\")"
      ]
    },
    {
      "cell_type": "markdown",
      "metadata": {
        "id": "en2dH8zIAKZx"
      },
      "source": [
        "Let's look on few samples from the predictive distribution:"
      ]
    },
    {
      "cell_type": "code",
      "execution_count": 57,
      "metadata": {
        "colab": {
          "base_uri": "https://localhost:8080/"
        },
        "id": "n5nGDEsthJJn",
        "outputId": "2c88a8b7-825b-47c4-bc84-f9725e201240"
      },
      "outputs": [
        {
          "data": {
            "text/plain": [
              "<tf.Tensor: shape=(1, 1), dtype=float32, numpy=array([[-0.4962887]], dtype=float32)>"
            ]
          },
          "execution_count": 57,
          "metadata": {},
          "output_type": "execute_result"
        }
      ],
      "source": [
        "model(x, training=True)"
      ]
    },
    {
      "cell_type": "code",
      "execution_count": 58,
      "metadata": {
        "colab": {
          "base_uri": "https://localhost:8080/"
        },
        "id": "5ARnbeCShJ95",
        "outputId": "740d24a0-e619-4a28-e3da-bb9f6df77fb1"
      },
      "outputs": [
        {
          "data": {
            "text/plain": [
              "<tf.Tensor: shape=(1, 1), dtype=float32, numpy=array([[-0.20800395]], dtype=float32)>"
            ]
          },
          "execution_count": 58,
          "metadata": {},
          "output_type": "execute_result"
        }
      ],
      "source": [
        "model(x, training=True)"
      ]
    },
    {
      "cell_type": "code",
      "execution_count": 59,
      "metadata": {
        "colab": {
          "base_uri": "https://localhost:8080/"
        },
        "id": "jMYvilBPhKnK",
        "outputId": "66957466-9d60-46a6-d714-f7e64da743b5"
      },
      "outputs": [
        {
          "data": {
            "text/plain": [
              "<tf.Tensor: shape=(1, 1), dtype=float32, numpy=array([[-0.08432994]], dtype=float32)>"
            ]
          },
          "execution_count": 59,
          "metadata": {},
          "output_type": "execute_result"
        }
      ],
      "source": [
        "model(x, training=True)"
      ]
    },
    {
      "cell_type": "code",
      "execution_count": 60,
      "metadata": {
        "colab": {
          "base_uri": "https://localhost:8080/"
        },
        "id": "TqKLggraoJtf",
        "outputId": "05492e12-d7e8-43c3-8e50-bba3f2d976d3"
      },
      "outputs": [
        {
          "data": {
            "text/plain": [
              "<tf.Tensor: shape=(), dtype=float32, numpy=-0.1665587>"
            ]
          },
          "execution_count": 60,
          "metadata": {},
          "output_type": "execute_result"
        }
      ],
      "source": [
        "# Mean from samples\n",
        "samples = model(tf.tile(x, [1000000, 1]), training=True)\n",
        "tf.reduce_mean(samples)"
      ]
    },
    {
      "cell_type": "code",
      "execution_count": 61,
      "metadata": {
        "colab": {
          "base_uri": "https://localhost:8080/"
        },
        "id": "0YGsFGSjhQ7P",
        "outputId": "091f76cd-af8c-49f8-f6e8-491acb42ca69"
      },
      "outputs": [
        {
          "data": {
            "text/plain": [
              "<tf.Tensor: shape=(1, 1), dtype=float32, numpy=array([[-0.2317547]], dtype=float32)>"
            ]
          },
          "execution_count": 61,
          "metadata": {},
          "output_type": "execute_result"
        }
      ],
      "source": [
        "# Mean from \"frozen\" dropout(s)\n",
        "model(x, training=False)"
      ]
    },
    {
      "cell_type": "markdown",
      "metadata": {
        "id": "HW4vxWJ--DSu"
      },
      "source": [
        "**If there are nonlinearities in the network, the mean estimated from multiple output samples differs from the one obtained deterministically by switching Dropout layers mode (training=False) to return their (layer) means. This happens becauss nonlinearity (=activation) applied to expectation (=layer mean) is not equal to expectation of nonlinerities (applied to samples from a layer).**\n"
      ]
    },
    {
      "cell_type": "code",
      "execution_count": null,
      "metadata": {
        "id": "MKO5XT1zhTSM"
      },
      "outputs": [],
      "source": []
    }
  ],
  "metadata": {
    "accelerator": "GPU",
    "colab": {
      "provenance": []
    },
    "kernelspec": {
      "display_name": "Python 3",
      "name": "python3"
    },
    "language_info": {
      "codemirror_mode": {
        "name": "ipython",
        "version": 3
      },
      "file_extension": ".py",
      "mimetype": "text/x-python",
      "name": "python",
      "nbconvert_exporter": "python",
      "pygments_lexer": "ipython3",
      "version": "3.8.3"
    }
  },
  "nbformat": 4,
  "nbformat_minor": 0
}
